{
 "cells": [
  {
   "cell_type": "markdown",
   "id": "fa252f14-c3d7-462c-8a63-b733136636d6",
   "metadata": {},
   "source": [
    "# Step 1: Setting up the environment\n",
    "\n",
    "#### To create and activate a virtual environment, run on your terminal:\n",
    "\n",
    "**Windows:**\n",
    "\n",
    "\n",
    "```\n",
    "python -m venv venv\n",
    "```\n",
    "```\n",
    "venv\\Scripts\\Activate\n",
    "```\n",
    "\n",
    "**macOS/Linux:**\n",
    "\n",
    "```\n",
    "python3 -m venv venv\n",
    "```\n",
    "\n",
    "```\n",
    "source venv/bin/activate\n",
    "```\n",
    "\n",
    "#### After the environment is activated, install the requirements:\n",
    "\n",
    "```\n",
    "pip install -r requirements.txt\n",
    "```\n"
   ]
  },
  {
   "cell_type": "markdown",
   "id": "5368ccd1-8969-49b2-93c0-f3af7b30e185",
   "metadata": {},
   "source": [
    "# Step 2: Pre-processing the document\n",
    "\n",
    "#### What you will need:\n",
    "1. PDF Document (skin cancer detection paper in my case)\n",
    "2. Embedding model (I am using Sentence-Bert)\n",
    "\n",
    "As described in the Readme file, the aim of this tutorial is to build a RAG-assisted LLM that can retrieve information from research papers, helping students and researchers get a quicker understanding of the paper. I will be using the paper *Skin Cancer Detection using ML Techniques* <sup>1</sup> for this example.  Feel free to use any paper you would like to retrieve information from, the same steps will apply to any paper / book. All you need to do is download it in pdf format and add your file path to the variable 'path'.  \n",
    "\n",
    "To pre-process the PDF document, we will use an embedding model. \n",
    "\n",
    "#### ⚠️ Now, what does “embedding” mean in AI?\n",
    "\n",
    "In this tutorial, we are trying to get our AI model to understand a paper (complex text data). The problem is, our model can only understand numbers. That is where embeddings come in.\n",
    "\n",
    "> An embedding is a way of representing complex data (like words or images) as a list of numbers — called a vector — in such a way that the relationships between items are preserved.\n",
    "\n",
    "\n",
    "#### Let’s dive into that:\n",
    "\n",
    "Think of each item (a word, an image, a sentence) as a point in space - a location on a map. The closer two points are, the more related their meanings are.\n",
    "\n",
    "For example:\n",
    "\n",
    "- The word “cat” will be close to “dog”.\n",
    "\n",
    "- The word “car” will be far away from “banana”.\n",
    "\n",
    "That’s because in real life, cats and dogs are similar (both animals, pets), while a car and a banana are not.\n",
    "\n",
    "So embeddings help us map meaning into a mathematical space.\n",
    "\n",
    "#### 🧐 What is an embedding model?\n",
    "\n",
    "An embedding model is an AI model that has learned how to take something complex — like a sentence — and turn it into a vector (a list of numbers) that captures its meaning.\n",
    "\n",
    "Different embedding models specialize in different kinds of data. The table below shows some examples of open-source embedding models for different use cases:\n",
    "\n",
    "\n",
    "| Data Type         | Embedding model examples    | What do they capture? |\r\n",
    "|-------------------|-----------------------------|-------------------------------\n",
    "| Words | Word2Vec, GloVe, FastText | Word meanings, analogies, syntactic similarity |\n",
    "| Sentences / Text | Sentence-BERT (SBERT), Instructor, E5 | Semantic similarity between sentences/documents |\n",
    "| Images              |  DINO, OpenCLIP   | Visual concepts, cross-modal (image-text) meaning   |\n",
    "| Audio               |  Wav2Vec 2.0, Whisper  | Speech content, audio features   |\n",
    "| Code | CodeBERT, GraphCodeBERT | Code syntax and semantics |  \n",
    "\n",
    "In this tutorial we are looking to read PDF documents, therefore, we need a model that embeds data based on semantic similarity. I have chosen Sentence-BERT, but it is interchangable for any sentence / text embedding model. Once you have build your own RAG-assisted LLM, you can experiment with different models and decide what works best for you\n",
    "\n",
    "Note that embedding models do not exactly embed words or sentences, they embed tokens.\n",
    "\n",
    "#### ❓ What is a token?\n",
    "\n",
    "A token is a smallest unit of input that a language model (like GPT or BERT) understands.\n",
    "\n",
    "In most modern NLP systems, tokens are not exactly words — they can be:\n",
    "\n",
    "- A whole word (hello)\n",
    "\n",
    "- A subword (un, believ, able)\n",
    "\n",
    "- A punctuation mark (!, .)\n",
    "\n",
    "- Even just a few characters (Th, is)\n",
    "\n",
    "Think of a token as a \"chunk\" of text — a building block the model processes one at a time.\n",
    "\n",
    "> **Example**\n",
    "> \n",
    "> Sentence: \"This is amazing!\" might be tokenized as:\n",
    "> \n",
    "> ['This', ' is', ' amazing', '!']\n",
    "\n",
    "\n",
    ".\n",
    "> Note that, on average in English text, 1 token is equal to 4 characters.\n",
    "\n",
    "\n",
    "#### Now that we know how the data pre_processing will work, let's get started!\n",
    "\r\n",
    "\n",
    "\n",
    "\n",
    "<sup>1</sup> M. Vidya and M.V. Karki \"Skin Cancer Detection using Machine Learning Techniques\", 2020 IEEE International Conference on Electronics, Computing and Communication Technologies, Bangalore, India, 2020, pp. 1-5, doi 10.1109/CONECCT50063.2020.9198489.98489. \r\n",
    "\r\n"
   ]
  },
  {
   "cell_type": "markdown",
   "id": "2e2159f5-13b3-4291-b35c-664f452d28ce",
   "metadata": {},
   "source": [
    "\n",
    "\n",
    "\n",
    "\n",
    "\n",
    "#### 2.1. Importing the relevant modules, getting the PDF we want to read, and extracting text from it:"
   ]
  },
  {
   "cell_type": "code",
   "execution_count": 1,
   "id": "91f0ab73-6e6a-4fa7-9367-347cf32452cd",
   "metadata": {},
   "outputs": [
    {
     "name": "stderr",
     "output_type": "stream",
     "text": [
      "G:\\My Drive\\feines 2025\\Github\\tutorial_RAG-assisted-LLM\\venv_llm\\Lib\\site-packages\\tqdm\\auto.py:21: TqdmWarning: IProgress not found. Please update jupyter and ipywidgets. See https://ipywidgets.readthedocs.io/en/stable/user_install.html\n",
      "  from .autonotebook import tqdm as notebook_tqdm\n"
     ]
    },
    {
     "name": "stdout",
     "output_type": "stream",
     "text": [
      "PDF file 'G:\\My Drive\\feines 2025\\MS Imaging paper\\to submit.pdf' exists.\n"
     ]
    },
    {
     "data": {
      "text/plain": [
       "[{'page_number': 0,\n",
       "  'token_count': 723.0,\n",
       "  'text': 'For submission to Heritage Science \\n \\nReal and simulated multispectral imaging of a palimpsest \\n \\nAdam Gibson1, Amy Howe2, Steve Wright2, Martina Sabate Monfort1, Terence Leung1, Angela \\nWarren-Thomas3, Tabitha Tuckett3, Katy Makin3 \\n1. UCL Medical Physics and Biomedical Engineering, Gower St, London WC1E 6BT \\n2. UCL Library Services, Gower St, London WC1E 6BT \\n3. UCL Special Collections, Gower St, London WC1E 6BT \\n \\nAbstract. We have recovered undertext from a palimpsest using multispectral imaging. \\nMoreover, we have developed a method for generating simulated multispectral images \\nfrom previously acquired digitised images of the manuscript, using knowledge of how a \\ncolourchecker chart appears in the multispectral images and in the standard digitised \\nimages. The ability to identify the undertext was generally better in the real \\nmultispectral images, though there were examples of improved identification in the \\nsimulated images. However, the method was unsuccessful when applied to freely \\navailable images of the Archimedes Palimpsest, suggesting that the mapping between \\nmultispectral and standard images must be calculated using the same camera systems \\nthat were used to acquire the original images. This approach may allow deeper analysis \\nof previously acquired digitised images using this low-cost simulated multispectral \\nimage approach. \\n \\n1. \\nIntroduction \\nPalimpsests present an iconic challenge in heritage imaging. A palimpsest is a manuscript page, \\nusually parchment, which has been reused. The older text is removed by either scraping or washing, \\nthen the page is often rotated, written over and rebound. The undertext is sometimes visible to the \\nnaked eye, but it is faint and is obscured by the overwriting. The imaging challenge is to reveal the \\nundertext. Multispectral imaging was developed as a method for recovering the lost text and proved \\nto be extremely successful when applied to the Archimedes Palimpsest in the late 1990s and early \\n2000s, revealing works by Archimedes and other authors that were thought to have been lost [1–3]. \\nMultispectral imaging (MSI) uses wavelength-selective illumination to record multiple photographs \\nof an object, showing its response in the near ultraviolet, visible and near infrared spectral range. \\nFilters may increase sensitivity to fluorescence by excluding the illuminating light. As well as being \\nused to reveal underwriting, MSI has also been used to detect other features that are invisible to the \\nhuman eye such as erased inscriptions, faded text and previous versions of text or paintings [4,5]. \\nMSI typically offers excellent spatial resolution but modest spectral resolution and its spectral data is \\nuncalibrated. Using Delaney’s [6] terminology, MSI is referred to as spectral imaging and offers \\nenhanced visualisation as opposed to imaging spectroscopy which provides calibrated spectra.'},\n",
       " {'page_number': 1,\n",
       "  'token_count': 909.25,\n",
       "  'text': 'Various studies have proposed using smartphone cameras for MSI, mainly motivated by the \\nbiomedical optics community, with the aim of monitoring haemodynamics by detecting the different \\nspectral characteristics of oxygenated and deoxygenated haemoglobin in blood. Some of these \\nrequire modifications or additions to the smartphone [7–10] but a new approach by He and Wang \\n[11,12] was able to derive simulated multispectral images from an unmodified smartphone camera. \\nHere, we adapt the method of He and Wang and apply it to generating simulated multispectral \\nimages from digitised photographs of a palimpsest. The photographs were acquired using standard \\ndigitisation protocols so the method described here could be applied to any digitised images. The \\ntechnique requires a colourchecker chart which is imaged using a multispectral imaging system and \\nwith standard photography. These images are processed to provide a matrix which can convert a \\nred-green-blue (RGB) colour photograph to a simulated multi-wavelength MSI dataset. \\nMultispectral images have a number of advantages over RGB images, and the method described \\nhere can only emulate some of these advantages. Cameras used for RGB and MSI photography are \\nboth based on silicon sensors so have the same intrinsic spectral range from about 300 nm in the \\nultraviolet to 1100 nm in the near infrared. However, a commercial RGB camera has its effective \\nspectral range reduced to about 400-800 nm to match that of the eye, by using standard glass lenses \\nthat absorb in the ultraviolet and an infrared blocking filter that excludes longer wavelengths. An \\nMSI system maintains sensitivity further into the ultraviolet and infrared than a commercial RGB \\ncamera by using UV-transparent glass lenses and omitting the infrared blocking filter. However, \\nmore importantly, the wavelength-selective filters supplied with MSI systems are optimised for \\nenhancing sensitivity to fluorescence. A post-processing technique such as the one proposed here \\ncould in principle offer a slightly increased spectral range by enhancing the limited sensitivity at the \\nlongest and shortest wavelengths, but it cannot offer significant sensitivity to fluorescence without \\nchanges to hardware. Here, therefore we distinguish between four methods: (i) full multispectral \\nimaging of a palimpsest; (ii) reduced MSI imaging (excluding fluorescence); (iii) unprocessed RGB \\nphotographs; and (iv) simulated MSI images obtained by processing the RGB images with knowledge \\ngained from the colourchecker chart. \\nThis method has the potential to offer simulated MSI for institutions that do not have access to MSI \\nsystems, and perhaps more importantly, to the many millions of objects that have already been \\ndigitised using standard photographic processes. The software was written in Matlab R2023b (The \\nMathworks USA) and is available ***. \\n \\n2. \\nMethods \\n2.1 \\nPalimpsest \\nThe manuscript is held by UCL Special Collections (MS LAT/15). It is an early 14th Century manuscript \\nvolume and was bequeathed to UCL by John Graves (1806-1870), mathematician and Professor of \\nJurisprudence. It contains a number of different works on mathematics, astronomy and astrology, \\nsome by Johannes de Sacro Bosco (c. 1195 – c. 1256) which were some of the first Western \\nEuropean texts to use Arabic numerals [13]. They are written in various hands but bound in a single \\nvolume of 33 leaves cut to 217 x 162 mm [14]. \\nSome of the leaves are palimpsests with the undertext visible in the margin of the overtext \\n(Figure 1). Prior to this study, the manuscript was described in the catalogue record [15] as “a'},\n",
       " {'page_number': 2,\n",
       "  'token_count': 399.75,\n",
       "  'text': 'palimpsest with the erased text (a 13th century Italian hand?) still visible most clearly on folios 11r-\\n14r and 19v-20v”. \\n2.2 \\nDigitisation \\nThe book was fully digitised in December 2023 and is available from UCL’s digital collections \\ncatalogue as part of the Manuscript Collections listed as “Sacrobosco, Sphera, Algorismus and other \\ntracts” [15]. \\nThe photographs are 2696 x 3512 pixels and were acquired with a Canon EOS 6D camera with a \\n50 mm lens at f/8 and ISO100 using a copystand with white tungsten lighting. All images were \\nacquired and colour corrected following UCL Special Collections’ digitisation protocols.  \\n \\nFigure 1: MS LAT/15, showing the recto (left) and verso (right) of folio 13. The horizontal overtext is \\ndominant, but the partially erased undertext can be seen running vertically in the margins. Red \\nrubrication is clearly visible, as are some damage and repairs. \\n \\n2.3 \\nMultispectral imaging \\nThe UCL Multispectral Imaging system was supplied by R B Toth Associates (USA). It is based around \\na PhaseOne XF camera (PhaseOne, Denmark) with an IQ3 digital back which generates \\n11608 × 8708 pixel, monochrome, 16 bit images, and a 120 mm apochromatic lens. Two LED lighting \\npanels (Equipoise Imaging LLC, USA) provide illumination at 16 discrete wavelengths from 365 nm to \\n940 nm and a filter wheel, equipped with longpass filters (Thorlabs, USA), can exclude the \\nilluminating light to enhance sensitivity to fluorescence. The system is controlled using Spectral XV \\nv2.1.0.0 (Equipoise Imaging LLC, USA) and Capture One v12.0.2.13 (PhaseOne, Denmark) software.'}]"
      ]
     },
     "execution_count": 1,
     "metadata": {},
     "output_type": "execute_result"
    }
   ],
   "source": [
    "# Import relevant modules\n",
    "import fitz\n",
    "import os\n",
    "import requests\n",
    "\n",
    "\n",
    "# Get PDF path (change this variable to your pdf path)\n",
    "#____________________________________________________________________\n",
    "path = r\"G:\\My Drive\\feines 2025\\MS Imaging paper\\to submit.pdf\"\n",
    "#____________________________________________________________________\n",
    "\n",
    "# Check that the path exists\n",
    "if os.path.exists(path):\n",
    "    print(f\"PDF file '{path}' exists.\")\n",
    "else:\n",
    "    print(f\"PDF file '{path}' does not exist\")\n",
    "\n",
    "# Open the PDF file\n",
    "paper = fitz.open(path)\n",
    "\n",
    "# Define a helper function to clean text\n",
    "def format_pdf(paper_text: str): # REMOVE -> STR ???????????????????????\n",
    "  \"\"\"Use this function for any formatting you want to apply to the text prior to embedding.\n",
    "  Inputs: \n",
    "      paper_text (str): PDF text\n",
    "  Outputs: \n",
    "      formatted_pdf (str): PDF text with leading or trailing whitespaces removed\n",
    "  \"\"\"\n",
    "  formatted_pdf = paper_text.strip()\n",
    "  # add any other formatting features here\n",
    "    \n",
    "  return formatted_pdf\n",
    "    \n",
    "# Define a helper function to extract text from the pdf\n",
    "def extract_text(formatted_pdf: str):\n",
    "  \"\"\"Reads the text content inside the provided PDF\n",
    "  Inputs: \n",
    "      formatted_pdf (str): Formatted PDF text\n",
    "  Outputs: \n",
    "      output (list[dict]): List of dictionaries containing the extracted text from each PDF page,\n",
    "      alongside the page number\n",
    "  \"\"\"\n",
    "  paper = fitz.open(path)\n",
    "\n",
    "  # Define an empty list that will be filled with the extracted text\n",
    "  output = []\n",
    "\n",
    "  # CHANGE THIS LOOP A BIT MORE !!!!!!!!!!!!!!!!!!!!!!!!!!!!!!!!!!!!!!!!!!!!!!!!!\n",
    "  for page_number, page in enumerate(paper):\n",
    "    paper_text = page.get_text()\n",
    "    paper_text = format_pdf(paper_text=paper_text)\n",
    "    output.append({\"page_number\": page_number,       \n",
    "                   \"token_count\": len(paper_text) / 4,\n",
    "                   \"text\": paper_text\n",
    "                   })\n",
    "  return output\n",
    "\n",
    "# Check that the helper function works as expected by printing the first three pages\n",
    "output = extract_text(path=path)\n",
    "print(output)"
   ]
  },
  {
   "cell_type": "markdown",
   "id": "13288faf-a606-4933-bd7e-10dedd482feb",
   "metadata": {},
   "source": [
    "#### 2.2. Chunking the extracted text\n",
    "\n",
    "First of all, we will the NLP library **SpaCy** to divide our extracted text in sentences.\n",
    "\n",
    "This is due to the fact that embedding models cannot process an infinite number of tokens, therefore we need to limit the number of tokens by chunking the text into groups of sentences.\n",
    "\n",
    "For this tutorial I have split the text in chunks of 15 sentences, although this number is arbitrary. Feel free to experiment and decide what works best with your model. What is the criteria to keep in mind:\n",
    "1. Smaller groups of text will be easier to inspect, making it easier to filter content\n",
    "2. The text chunks need to fit into our embedding model's context window\n",
    "3. Chunks too large will make the context that will be passed to the LLM too vague\n",
    "4. Chunks too short might leave out information that is also relevant / be misleading\n",
    "5. We want to find a chunk size so that the context passed to the LLM will be specific and focused\n",
    "\n",
    "# REVIEW CONTENT (siml) FROM HERE\n"
   ]
  },
  {
   "cell_type": "code",
   "execution_count": 2,
   "id": "fe39fd69-bacc-46d4-966d-8891123d7263",
   "metadata": {},
   "outputs": [
    {
     "name": "stdout",
     "output_type": "stream",
     "text": [
      "[SpaCy is an NLP library., It splits text into sentences., Let's test it.]\n"
     ]
    },
    {
     "data": {
      "text/plain": [
       "[[0, 1, 2, 3, 4, 5, 6, 7, 8, 9, 10, 11, 12, 13, 14],\n",
       " [15, 16, 17, 18, 19, 20, 21, 22, 23, 24]]"
      ]
     },
     "execution_count": 2,
     "metadata": {},
     "output_type": "execute_result"
    }
   ],
   "source": [
    "from spacy.lang.en import English\n",
    "\n",
    "spacy = English()\n",
    "\n",
    "# Add a sentencizer pipeline (sentencizer turns text into sentences)\n",
    "# You can check the documentation at https://spacy.io/api/sentencizer\n",
    "spacy.add_pipe(\"sentencizer\")\n",
    "\n",
    "# Test that the sentencizer works\n",
    "test_spacy = spacy(\"SpaCy is an NLP library. It splits text into sentences. Let's test it.\")\n",
    "assert len(list(test_spacy.sents)) == 3\n",
    "print(list(test_spacy.sents))\n",
    "\n",
    "# Define the number of sentences per chunk\n",
    "len_chunks = 15\n",
    "\n",
    "# Create a function to split the text into chunk size\n",
    "def split_list(input_list: list[str],\n",
    "               slice_size: int = len_chunks):\n",
    "  \"\"\"Splits text into chunk size\"\"\"\n",
    "  return [input_list[i:(i + slice_size)] for i in range(0, len(input_list), (slice_size))] #CHANGE!!!!!!!!!!!!!!!!!!!!!!!!!!!!!!!!!!\n",
    "  # Reminder: range(start, stop, step)\n",
    "\n",
    "test_list = list(range(25))\n",
    "split_list(test_list)\n"
   ]
  },
  {
   "cell_type": "code",
   "execution_count": 16,
   "id": "5885364d-0169-4f97-8898-0b27d50b5b42",
   "metadata": {},
   "outputs": [
    {
     "name": "stderr",
     "output_type": "stream",
     "text": [
      "100%|█████████████████████████████████████████████████████████████████████████████████████████████████████| 14/14 [00:00<00:00, 194.03it/s]\n"
     ]
    }
   ],
   "source": [
    "# Loop through pages and split the text into sentences\n",
    "for item in tqdm(output):\n",
    "  # Get a list of sentences in the current item's text:\n",
    "  item[\"sentences\"] = list(spacy(item[\"text\"]).sents)\n",
    "  # Make sure all sentences are strings:\n",
    "  item[\"sentences\"] = [str(sentence) for sentence in item[\"sentences\"]]\n",
    "  # Loop through pages and split sentences into chunks, then get number of sentences per chunk:\n",
    "  item[\"sentence_chunks\"] = split_list(input_list=item[\"sentences\"],\n",
    "                                       slice_size=len_chunks)\n",
    "  item[\"num_chunks\"] = len(item[\"sentence_chunks\"])\n",
    "  # Count the sentences:\n",
    "  item[\"page_sentence_count_spacy\"] = len(item[\"sentences\"])\n",
    "\n"
   ]
  },
  {
   "cell_type": "code",
   "execution_count": 17,
   "id": "9abadeee-55d7-415b-b1fc-1d13e16644bb",
   "metadata": {},
   "outputs": [
    {
     "data": {
      "text/plain": [
       "[{'page_number': 5,\n",
       "  'token_count': 52.0,\n",
       "  'text': 'Figure 2: Real and simulated multispectral images of MS LAT/15 f20v. (a) is the original digitised \\nimage. (b)-(e) are four selected reflectance MSI images and (f)-(l) the corresponding simulated MSI \\nimages.',\n",
       "  'sentences': ['Figure 2: Real and simulated multispectral images of MS LAT/15 f20v. (',\n",
       "   'a) is the original digitised \\nimage. (',\n",
       "   'b)-(e) are four selected reflectance MSI images and (f)-(l) the corresponding simulated MSI \\nimages.'],\n",
       "  'page_sentence_count_spacy': 3,\n",
       "  'sentence_chunks': [['Figure 2: Real and simulated multispectral images of MS LAT/15 f20v. (',\n",
       "    'a) is the original digitised \\nimage. (',\n",
       "    'b)-(e) are four selected reflectance MSI images and (f)-(l) the corresponding simulated MSI \\nimages.']],\n",
       "  'num_chunks': 1}]"
      ]
     },
     "execution_count": 17,
     "metadata": {},
     "output_type": "execute_result"
    }
   ],
   "source": [
    "import random\n",
    "random.sample(output, k=1)"
   ]
  },
  {
   "cell_type": "markdown",
   "id": "996ba01a-cab7-404f-bb9c-97110f329c09",
   "metadata": {},
   "source": [
    "#### 2.3. Embedding each text chunk\n",
    "# CHANGE\n",
    "We want to **embed** each chunk of sentences into its own **numerical representation**.\n",
    "\n",
    "That will give us a good level of granularity, meaning, we can dive specifically into the text sample that was used in our model."
   ]
  },
  {
   "cell_type": "code",
   "execution_count": 23,
   "id": "93d226e6-ed3c-4cba-911f-1a00f3f04b10",
   "metadata": {},
   "outputs": [
    {
     "name": "stderr",
     "output_type": "stream",
     "text": [
      "100%|██████████████████████████████████████████████████████████████████████████████████████████████████████████████| 14/14 [00:00<?, ?it/s]\n"
     ]
    },
    {
     "data": {
      "text/plain": [
       "24"
      ]
     },
     "execution_count": 23,
     "metadata": {},
     "output_type": "execute_result"
    }
   ],
   "source": [
    "import re\n",
    "\n",
    "# Split each chunk into its own item\n",
    "final_chunks = []\n",
    "for item in tqdm(output):\n",
    "  for sentence_chunk in item[\"sentence_chunks\"]:\n",
    "    chunk_dict = {}\n",
    "    chunk_dict[\"page_number\"] = item[\"page_number\"] #get the page number\n",
    "\n",
    "    # Join sentences in a chunk into a paragraph:\n",
    "    joined_chunk = \"\".join(sentence_chunk).replace(\"  \", \" \").replace(\"\\n\", \" \").strip() # is there a way to replace all multiple spaces for 1\n",
    "\n",
    "    # ADD FORMATTING SPECIFIC TO MY DOCUMENT_______________________________________________________________\n",
    "\n",
    "    # For the 'joined_chunk', new sentences will be joined as 'end.Start'\n",
    "    # To add a space, we use library regex (re). '\\.([A-Z])' means for any chars\n",
    "    # with this format (. followed by any capital letter (A-Z)), add\n",
    "    # 1 space after '.'. So: \".A\" -> \". A\" (for any capital letter).\n",
    "    joined_chunk = re.sub(r'\\.([A-Z])', r'. \\1', joined_chunk)\n",
    "\n",
    "    chunk_dict[\"sentence_chunk\"] = joined_chunk #add the joined paragraph as \"sentence_chunks\"\n",
    "\n",
    "    #Get stats:\n",
    "    chunk_dict[\"chunk_token_count\"] = len(joined_chunk) / 4\n",
    "\n",
    "    final_chunks.append(chunk_dict)\n",
    "\n",
    "len(final_chunks)"
   ]
  },
  {
   "cell_type": "code",
   "execution_count": 28,
   "id": "474804c9-b6ae-445d-824e-91452fd16782",
   "metadata": {},
   "outputs": [
    {
     "data": {
      "text/plain": [
       "[{'page_number': 3,\n",
       "  'sentence_chunk': 'The original digitised images were downloaded and inspected. Multispectral images were acquired  of 13 sheets using the UCL Multispectral Imaging System. Simulated MSI images were generated  using the process described in section 2.4, and using a W matrix that mapped between the Canon  EOS 6D camera used for digitisation and the PhaseOne system used for MSI.    2.5  Post processing',\n",
       "  'chunk_token_count': 96.0}]"
      ]
     },
     "execution_count": 28,
     "metadata": {},
     "output_type": "execute_result"
    }
   ],
   "source": [
    "random.sample(final_chunks, k=1)"
   ]
  },
  {
   "cell_type": "markdown",
   "id": "fb914d00-e8b1-4498-8263-2ea89e8ece58",
   "metadata": {},
   "source": [
    "# FILTER OUT IRRELEVANT CHUNKS_____________\n",
    "e.g. he does under 30 tokens see what would be useful for me otherwise remove\n",
    "might be unnecessary"
   ]
  },
  {
   "cell_type": "code",
   "execution_count": 38,
   "id": "7e16797e-52bd-41f9-aae6-5497a3787506",
   "metadata": {},
   "outputs": [
    {
     "name": "stdout",
     "output_type": "stream",
     "text": [
      "Chunk token count: 26.5 | Text: In  this case, the simulated images unexpectedly appeared to show the greatest contrast to the  undertext.\n"
     ]
    }
   ],
   "source": []
  },
  {
   "cell_type": "code",
   "execution_count": null,
   "id": "be5c10f9-de43-43ba-8dcf-d51f563fb4cd",
   "metadata": {},
   "outputs": [],
   "source": [
    "from sentence_transformers import SentenceTransformer\n",
    "\n",
    "# Selects one of many open-source embedding models (high quality but slower)\n",
    "# model doc: https://huggingface.co/sentence-transformers/all-mpnet-base-v2\n",
    "embedding_model = SentenceTransformer(\"all-mpnet-base-v2\",\n",
    "                                      device = \"cpu\")\n",
    "\n",
    "# Creates list of sentences as an embedding demo\n",
    "sentences = [\"Sentence Transformer library provides an easy way to embed data.\",\n",
    "             \"Sentences can be embedded one by one or in a list.\",\n",
    "             \"I like dancing!\"]\n",
    "# With embedding we try to capture meaning with a value. In this case, sentence\n",
    "# number 3 should be further from 1 and 2.\n",
    "\n",
    "embeddings = embedding_model.encode(sentences)\n",
    "embeddings_dict = dict(zip(sentences, embeddings))\n",
    "\n",
    "# Shows embeddings\n",
    "for sentence, embedding in embeddings_dict.items():\n",
    "  print(f\"Sentence: {sentence}\")\n",
    "  print(f\"Embedding: {embedding}\")\n",
    "  print(\" \")"
   ]
  },
  {
   "cell_type": "code",
   "execution_count": 40,
   "id": "aafc6af8-0c4d-4617-8575-017b607ac651",
   "metadata": {},
   "outputs": [
    {
     "name": "stderr",
     "output_type": "stream",
     "text": [
      "None of PyTorch, TensorFlow >= 2.0, or Flax have been found. Models won't be available and only tokenizers, configuration and file/data utilities can be used.\n",
      "G:\\My Drive\\feines 2025\\Github\\tutorial_RAG-assisted-LLM\\venv_llm\\Lib\\site-packages\\huggingface_hub\\file_download.py:144: UserWarning: `huggingface_hub` cache-system uses symlinks by default to efficiently store duplicated files but your machine does not support them in C:\\Users\\marti\\.cache\\huggingface\\hub\\models--allenai--specter2_base. Caching files will still work but in a degraded version that might require more space on your disk. This warning can be disabled by setting the `HF_HUB_DISABLE_SYMLINKS_WARNING` environment variable. For more details, see https://huggingface.co/docs/huggingface_hub/how-to-cache#limitations.\n",
      "To support symlinks on Windows, you either need to activate Developer Mode or to run Python as an administrator. In order to activate developer mode, see this article: https://docs.microsoft.com/en-us/windows/apps/get-started/enable-your-device-for-development\n",
      "  warnings.warn(message)\n"
     ]
    }
   ],
   "source": [
    "from transformers import AutoTokenizer\n",
    "# load model and tokenizer\n",
    "tokenizer = AutoTokenizer.from_pretrained('allenai/specter2')\n",
    "model = AutoModel.from_pretrained('allenai/specter2')\n",
    "\n",
    "sentences = [\"Sentence Transformer library provides an easy way to embed data.\",\n",
    "             \"Sentences can be embedded one by one or in a list.\",\n",
    "             \"I like dancing!\"] # CHANGE______________________________________________________________\n",
    "\n",
    "# Tokenize the sentences\n",
    "inputs = tokenizer(sentences, padding=True, truncation=True, return_tensors=\"pt\")\n",
    "\n",
    "# Forward pass to get hidden states\n",
    "with torch.no_grad():\n",
    "    outputs = model(**inputs)\n",
    "    embeddings = outputs.last_hidden_state[:, 0, :]  # Take the CLS token (first token) as the embedding\n",
    "\n",
    "# Now `embeddings` is a tensor with shape (3, hidden_size)\n",
    "print(embeddings.shape) "
   ]
  },
  {
   "cell_type": "code",
   "execution_count": null,
   "id": "c1307cd4-d532-4cfa-9d82-131b6a842501",
   "metadata": {},
   "outputs": [],
   "source": []
  }
 ],
 "metadata": {
  "kernelspec": {
   "display_name": "Python 3 (ipykernel)",
   "language": "python",
   "name": "python3"
  },
  "language_info": {
   "codemirror_mode": {
    "name": "ipython",
    "version": 3
   },
   "file_extension": ".py",
   "mimetype": "text/x-python",
   "name": "python",
   "nbconvert_exporter": "python",
   "pygments_lexer": "ipython3",
   "version": "3.11.3"
  }
 },
 "nbformat": 4,
 "nbformat_minor": 5
}
